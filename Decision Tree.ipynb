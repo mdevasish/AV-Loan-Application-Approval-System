{
 "cells": [
  {
   "cell_type": "markdown",
   "metadata": {},
   "source": [
    "### Data Preperation and Decision Tree implementation"
   ]
  },
  {
   "cell_type": "markdown",
   "metadata": {},
   "source": [
    "In this notebook we will build a DecisionTree to predict the loan approval of a given customer. We are using the preprocessed data that was saved to the disk in Exploratory Data Analysis stage. Below are the detailed steps of the model building for DecisionTree.\n",
    "\n",
    "1. Read the csv file and transform the data so that DecisionTree can be applied. The data transformations include converting categorical variables into numerical variables with the help of manual encoding.\n",
    "\n",
    "2. Split the data for training and validation. Train data would contain 70% of the records and test data would hold 30% of the records.\n",
    "\n",
    "3. Build the model and verify the results on train and test data.\n",
    "\n",
    "4. Finetune the hyper parameters and experiment with the threshold values of the classifier.\n",
    "\n",
    "5. Final Model Evaluation"
   ]
  },
  {
   "cell_type": "code",
   "execution_count": 1,
   "metadata": {
    "scrolled": true
   },
   "outputs": [],
   "source": [
    "import pandas as pd\n",
    "import numpy as np\n",
    "from sklearn.metrics import accuracy_score,roc_curve,confusion_matrix,roc_auc_score,f1_score\n",
    "from sklearn.model_selection import train_test_split,GridSearchCV,StratifiedKFold\n",
    "from sklearn.tree import DecisionTreeClassifier,export_graphviz\n",
    "import seaborn as sns\n",
    "import matplotlib.pyplot as plt\n",
    "%matplotlib inline \n",
    "import pickle\n",
    "import graphviz\n"
   ]
  },
  {
   "cell_type": "code",
   "execution_count": 2,
   "metadata": {},
   "outputs": [],
   "source": [
    "df = pd.read_csv('./Data/processed_file.csv')"
   ]
  },
  {
   "cell_type": "code",
   "execution_count": 3,
   "metadata": {},
   "outputs": [
    {
     "data": {
      "text/html": [
       "<div>\n",
       "<style scoped>\n",
       "    .dataframe tbody tr th:only-of-type {\n",
       "        vertical-align: middle;\n",
       "    }\n",
       "\n",
       "    .dataframe tbody tr th {\n",
       "        vertical-align: top;\n",
       "    }\n",
       "\n",
       "    .dataframe thead th {\n",
       "        text-align: right;\n",
       "    }\n",
       "</style>\n",
       "<table border=\"1\" class=\"dataframe\">\n",
       "  <thead>\n",
       "    <tr style=\"text-align: right;\">\n",
       "      <th></th>\n",
       "      <th>Loan_ID</th>\n",
       "      <th>Gender</th>\n",
       "      <th>Married</th>\n",
       "      <th>Dependents</th>\n",
       "      <th>Education</th>\n",
       "      <th>Self_Employed</th>\n",
       "      <th>ApplicantIncome</th>\n",
       "      <th>CoapplicantIncome</th>\n",
       "      <th>LoanAmount</th>\n",
       "      <th>Loan_Amount_Term</th>\n",
       "      <th>Credit_History</th>\n",
       "      <th>Property_Area</th>\n",
       "      <th>Total_Income</th>\n",
       "      <th>Loan_Status</th>\n",
       "      <th>Ratio</th>\n",
       "    </tr>\n",
       "  </thead>\n",
       "  <tbody>\n",
       "    <tr>\n",
       "      <th>0</th>\n",
       "      <td>LP001326</td>\n",
       "      <td>Male</td>\n",
       "      <td>No</td>\n",
       "      <td>0</td>\n",
       "      <td>Graduate</td>\n",
       "      <td>No</td>\n",
       "      <td>6782</td>\n",
       "      <td>0.0</td>\n",
       "      <td>130371.428571</td>\n",
       "      <td>360.0</td>\n",
       "      <td>1.0</td>\n",
       "      <td>Urban</td>\n",
       "      <td>6782.0</td>\n",
       "      <td>N</td>\n",
       "      <td>19.223154</td>\n",
       "    </tr>\n",
       "    <tr>\n",
       "      <th>1</th>\n",
       "      <td>LP001034</td>\n",
       "      <td>Male</td>\n",
       "      <td>No</td>\n",
       "      <td>1</td>\n",
       "      <td>Not Graduate</td>\n",
       "      <td>No</td>\n",
       "      <td>3596</td>\n",
       "      <td>0.0</td>\n",
       "      <td>100000.000000</td>\n",
       "      <td>240.0</td>\n",
       "      <td>0.0</td>\n",
       "      <td>Urban</td>\n",
       "      <td>3596.0</td>\n",
       "      <td>Y</td>\n",
       "      <td>27.808676</td>\n",
       "    </tr>\n",
       "    <tr>\n",
       "      <th>2</th>\n",
       "      <td>LP001052</td>\n",
       "      <td>Male</td>\n",
       "      <td>Yes</td>\n",
       "      <td>1</td>\n",
       "      <td>Graduate</td>\n",
       "      <td>No</td>\n",
       "      <td>3717</td>\n",
       "      <td>2925.0</td>\n",
       "      <td>151000.000000</td>\n",
       "      <td>360.0</td>\n",
       "      <td>1.0</td>\n",
       "      <td>Semiurban</td>\n",
       "      <td>6642.0</td>\n",
       "      <td>N</td>\n",
       "      <td>22.734116</td>\n",
       "    </tr>\n",
       "    <tr>\n",
       "      <th>3</th>\n",
       "      <td>LP001091</td>\n",
       "      <td>Male</td>\n",
       "      <td>Yes</td>\n",
       "      <td>1</td>\n",
       "      <td>Graduate</td>\n",
       "      <td>No</td>\n",
       "      <td>4166</td>\n",
       "      <td>3369.0</td>\n",
       "      <td>201000.000000</td>\n",
       "      <td>360.0</td>\n",
       "      <td>1.0</td>\n",
       "      <td>Urban</td>\n",
       "      <td>7535.0</td>\n",
       "      <td>N</td>\n",
       "      <td>26.675514</td>\n",
       "    </tr>\n",
       "    <tr>\n",
       "      <th>4</th>\n",
       "      <td>LP001123</td>\n",
       "      <td>Male</td>\n",
       "      <td>Yes</td>\n",
       "      <td>0</td>\n",
       "      <td>Graduate</td>\n",
       "      <td>No</td>\n",
       "      <td>2400</td>\n",
       "      <td>0.0</td>\n",
       "      <td>75000.000000</td>\n",
       "      <td>360.0</td>\n",
       "      <td>1.0</td>\n",
       "      <td>Urban</td>\n",
       "      <td>2400.0</td>\n",
       "      <td>Y</td>\n",
       "      <td>31.250000</td>\n",
       "    </tr>\n",
       "    <tr>\n",
       "      <th>...</th>\n",
       "      <td>...</td>\n",
       "      <td>...</td>\n",
       "      <td>...</td>\n",
       "      <td>...</td>\n",
       "      <td>...</td>\n",
       "      <td>...</td>\n",
       "      <td>...</td>\n",
       "      <td>...</td>\n",
       "      <td>...</td>\n",
       "      <td>...</td>\n",
       "      <td>...</td>\n",
       "      <td>...</td>\n",
       "      <td>...</td>\n",
       "      <td>...</td>\n",
       "      <td>...</td>\n",
       "    </tr>\n",
       "    <tr>\n",
       "      <th>609</th>\n",
       "      <td>LP002978</td>\n",
       "      <td>Female</td>\n",
       "      <td>No</td>\n",
       "      <td>0</td>\n",
       "      <td>Graduate</td>\n",
       "      <td>No</td>\n",
       "      <td>2900</td>\n",
       "      <td>0.0</td>\n",
       "      <td>71000.000000</td>\n",
       "      <td>360.0</td>\n",
       "      <td>1.0</td>\n",
       "      <td>Rural</td>\n",
       "      <td>2900.0</td>\n",
       "      <td>Y</td>\n",
       "      <td>24.482759</td>\n",
       "    </tr>\n",
       "    <tr>\n",
       "      <th>610</th>\n",
       "      <td>LP002979</td>\n",
       "      <td>Male</td>\n",
       "      <td>Yes</td>\n",
       "      <td>3+</td>\n",
       "      <td>Graduate</td>\n",
       "      <td>No</td>\n",
       "      <td>4106</td>\n",
       "      <td>0.0</td>\n",
       "      <td>40000.000000</td>\n",
       "      <td>180.0</td>\n",
       "      <td>1.0</td>\n",
       "      <td>Rural</td>\n",
       "      <td>4106.0</td>\n",
       "      <td>Y</td>\n",
       "      <td>9.741841</td>\n",
       "    </tr>\n",
       "    <tr>\n",
       "      <th>611</th>\n",
       "      <td>LP002983</td>\n",
       "      <td>Male</td>\n",
       "      <td>Yes</td>\n",
       "      <td>1</td>\n",
       "      <td>Graduate</td>\n",
       "      <td>No</td>\n",
       "      <td>8072</td>\n",
       "      <td>240.0</td>\n",
       "      <td>253000.000000</td>\n",
       "      <td>360.0</td>\n",
       "      <td>1.0</td>\n",
       "      <td>Urban</td>\n",
       "      <td>8312.0</td>\n",
       "      <td>Y</td>\n",
       "      <td>30.437921</td>\n",
       "    </tr>\n",
       "    <tr>\n",
       "      <th>612</th>\n",
       "      <td>LP002984</td>\n",
       "      <td>Male</td>\n",
       "      <td>Yes</td>\n",
       "      <td>2</td>\n",
       "      <td>Graduate</td>\n",
       "      <td>No</td>\n",
       "      <td>7583</td>\n",
       "      <td>0.0</td>\n",
       "      <td>187000.000000</td>\n",
       "      <td>360.0</td>\n",
       "      <td>1.0</td>\n",
       "      <td>Urban</td>\n",
       "      <td>7583.0</td>\n",
       "      <td>Y</td>\n",
       "      <td>24.660425</td>\n",
       "    </tr>\n",
       "    <tr>\n",
       "      <th>613</th>\n",
       "      <td>LP002990</td>\n",
       "      <td>Female</td>\n",
       "      <td>No</td>\n",
       "      <td>0</td>\n",
       "      <td>Graduate</td>\n",
       "      <td>Yes</td>\n",
       "      <td>4583</td>\n",
       "      <td>0.0</td>\n",
       "      <td>133000.000000</td>\n",
       "      <td>360.0</td>\n",
       "      <td>0.0</td>\n",
       "      <td>Semiurban</td>\n",
       "      <td>4583.0</td>\n",
       "      <td>N</td>\n",
       "      <td>29.020292</td>\n",
       "    </tr>\n",
       "  </tbody>\n",
       "</table>\n",
       "<p>614 rows × 15 columns</p>\n",
       "</div>"
      ],
      "text/plain": [
       "      Loan_ID  Gender Married Dependents     Education Self_Employed  \\\n",
       "0    LP001326    Male      No          0      Graduate            No   \n",
       "1    LP001034    Male      No          1  Not Graduate            No   \n",
       "2    LP001052    Male     Yes          1      Graduate            No   \n",
       "3    LP001091    Male     Yes          1      Graduate            No   \n",
       "4    LP001123    Male     Yes          0      Graduate            No   \n",
       "..        ...     ...     ...        ...           ...           ...   \n",
       "609  LP002978  Female      No          0      Graduate            No   \n",
       "610  LP002979    Male     Yes         3+      Graduate            No   \n",
       "611  LP002983    Male     Yes          1      Graduate            No   \n",
       "612  LP002984    Male     Yes          2      Graduate            No   \n",
       "613  LP002990  Female      No          0      Graduate           Yes   \n",
       "\n",
       "     ApplicantIncome  CoapplicantIncome     LoanAmount  Loan_Amount_Term  \\\n",
       "0               6782                0.0  130371.428571             360.0   \n",
       "1               3596                0.0  100000.000000             240.0   \n",
       "2               3717             2925.0  151000.000000             360.0   \n",
       "3               4166             3369.0  201000.000000             360.0   \n",
       "4               2400                0.0   75000.000000             360.0   \n",
       "..               ...                ...            ...               ...   \n",
       "609             2900                0.0   71000.000000             360.0   \n",
       "610             4106                0.0   40000.000000             180.0   \n",
       "611             8072              240.0  253000.000000             360.0   \n",
       "612             7583                0.0  187000.000000             360.0   \n",
       "613             4583                0.0  133000.000000             360.0   \n",
       "\n",
       "     Credit_History Property_Area  Total_Income Loan_Status      Ratio  \n",
       "0               1.0         Urban        6782.0           N  19.223154  \n",
       "1               0.0         Urban        3596.0           Y  27.808676  \n",
       "2               1.0     Semiurban        6642.0           N  22.734116  \n",
       "3               1.0         Urban        7535.0           N  26.675514  \n",
       "4               1.0         Urban        2400.0           Y  31.250000  \n",
       "..              ...           ...           ...         ...        ...  \n",
       "609             1.0         Rural        2900.0           Y  24.482759  \n",
       "610             1.0         Rural        4106.0           Y   9.741841  \n",
       "611             1.0         Urban        8312.0           Y  30.437921  \n",
       "612             1.0         Urban        7583.0           Y  24.660425  \n",
       "613             0.0     Semiurban        4583.0           N  29.020292  \n",
       "\n",
       "[614 rows x 15 columns]"
      ]
     },
     "execution_count": 3,
     "metadata": {},
     "output_type": "execute_result"
    }
   ],
   "source": [
    "df"
   ]
  },
  {
   "cell_type": "code",
   "execution_count": 4,
   "metadata": {
    "scrolled": true
   },
   "outputs": [
    {
     "name": "stdout",
     "output_type": "stream",
     "text": [
      "<class 'pandas.core.frame.DataFrame'>\n",
      "RangeIndex: 614 entries, 0 to 613\n",
      "Data columns (total 15 columns):\n",
      " #   Column             Non-Null Count  Dtype  \n",
      "---  ------             --------------  -----  \n",
      " 0   Loan_ID            614 non-null    object \n",
      " 1   Gender             614 non-null    object \n",
      " 2   Married            614 non-null    object \n",
      " 3   Dependents         614 non-null    object \n",
      " 4   Education          614 non-null    object \n",
      " 5   Self_Employed      614 non-null    object \n",
      " 6   ApplicantIncome    614 non-null    int64  \n",
      " 7   CoapplicantIncome  614 non-null    float64\n",
      " 8   LoanAmount         614 non-null    float64\n",
      " 9   Loan_Amount_Term   614 non-null    float64\n",
      " 10  Credit_History     614 non-null    float64\n",
      " 11  Property_Area      614 non-null    object \n",
      " 12  Total_Income       614 non-null    float64\n",
      " 13  Loan_Status        614 non-null    object \n",
      " 14  Ratio              614 non-null    float64\n",
      "dtypes: float64(6), int64(1), object(8)\n",
      "memory usage: 72.1+ KB\n"
     ]
    }
   ],
   "source": [
    "df.info()"
   ]
  },
  {
   "cell_type": "code",
   "execution_count": 5,
   "metadata": {},
   "outputs": [],
   "source": [
    "def process_data_for_tree(df):\n",
    "    '''\n",
    "    Preprocessing steps to implement Decision Tree\n",
    "    \n",
    "    Input :\n",
    "        DataFrame to be transformed.\n",
    "    \n",
    "    Return :\n",
    "        Transformed DataFrame\n",
    "    '''\n",
    "    \n",
    "    df['Gender'] = df['Gender'].replace({'Male':1,'Female':0})\n",
    "    df['Married'] = df['Married'].replace({'No':0,'Yes':1})\n",
    "    df['Education'] = df['Education'].replace({'Graduate':1,'Not Graduate':0})\n",
    "    df['Self_Employed'] = df['Self_Employed'].replace({'Yes':1,'No':0})\n",
    "    df['Loan_Status'] = df['Loan_Status'].replace({'Y':1,'N':0})\n",
    "    df['Dependents'] = df['Dependents'].replace({'0':0,'1':1,'2':2,'3+':3})\n",
    "    df['Property_Area'] = df['Property_Area'].replace({'Rural':0,'Semiurban':1,'Urban':2})    \n",
    "    \n",
    "    return df[['Gender','Married','Dependents','Education','Self_Employed','ApplicantIncome','CoapplicantIncome',\n",
    "               'LoanAmount','Loan_Amount_Term','Credit_History','Property_Area','Total_Income','Ratio','Loan_Status']]"
   ]
  },
  {
   "cell_type": "code",
   "execution_count": 6,
   "metadata": {
    "scrolled": true
   },
   "outputs": [
    {
     "data": {
      "text/html": [
       "<div>\n",
       "<style scoped>\n",
       "    .dataframe tbody tr th:only-of-type {\n",
       "        vertical-align: middle;\n",
       "    }\n",
       "\n",
       "    .dataframe tbody tr th {\n",
       "        vertical-align: top;\n",
       "    }\n",
       "\n",
       "    .dataframe thead th {\n",
       "        text-align: right;\n",
       "    }\n",
       "</style>\n",
       "<table border=\"1\" class=\"dataframe\">\n",
       "  <thead>\n",
       "    <tr style=\"text-align: right;\">\n",
       "      <th></th>\n",
       "      <th>Gender</th>\n",
       "      <th>Married</th>\n",
       "      <th>Dependents</th>\n",
       "      <th>Education</th>\n",
       "      <th>Self_Employed</th>\n",
       "      <th>ApplicantIncome</th>\n",
       "      <th>CoapplicantIncome</th>\n",
       "      <th>LoanAmount</th>\n",
       "      <th>Loan_Amount_Term</th>\n",
       "      <th>Credit_History</th>\n",
       "      <th>Property_Area</th>\n",
       "      <th>Total_Income</th>\n",
       "      <th>Ratio</th>\n",
       "      <th>Loan_Status</th>\n",
       "    </tr>\n",
       "  </thead>\n",
       "  <tbody>\n",
       "    <tr>\n",
       "      <th>0</th>\n",
       "      <td>1</td>\n",
       "      <td>0</td>\n",
       "      <td>0</td>\n",
       "      <td>1</td>\n",
       "      <td>0</td>\n",
       "      <td>6782</td>\n",
       "      <td>0.0</td>\n",
       "      <td>130371.428571</td>\n",
       "      <td>360.0</td>\n",
       "      <td>1.0</td>\n",
       "      <td>2</td>\n",
       "      <td>6782.0</td>\n",
       "      <td>19.223154</td>\n",
       "      <td>0</td>\n",
       "    </tr>\n",
       "    <tr>\n",
       "      <th>1</th>\n",
       "      <td>1</td>\n",
       "      <td>0</td>\n",
       "      <td>1</td>\n",
       "      <td>0</td>\n",
       "      <td>0</td>\n",
       "      <td>3596</td>\n",
       "      <td>0.0</td>\n",
       "      <td>100000.000000</td>\n",
       "      <td>240.0</td>\n",
       "      <td>0.0</td>\n",
       "      <td>2</td>\n",
       "      <td>3596.0</td>\n",
       "      <td>27.808676</td>\n",
       "      <td>1</td>\n",
       "    </tr>\n",
       "    <tr>\n",
       "      <th>2</th>\n",
       "      <td>1</td>\n",
       "      <td>1</td>\n",
       "      <td>1</td>\n",
       "      <td>1</td>\n",
       "      <td>0</td>\n",
       "      <td>3717</td>\n",
       "      <td>2925.0</td>\n",
       "      <td>151000.000000</td>\n",
       "      <td>360.0</td>\n",
       "      <td>1.0</td>\n",
       "      <td>1</td>\n",
       "      <td>6642.0</td>\n",
       "      <td>22.734116</td>\n",
       "      <td>0</td>\n",
       "    </tr>\n",
       "    <tr>\n",
       "      <th>3</th>\n",
       "      <td>1</td>\n",
       "      <td>1</td>\n",
       "      <td>1</td>\n",
       "      <td>1</td>\n",
       "      <td>0</td>\n",
       "      <td>4166</td>\n",
       "      <td>3369.0</td>\n",
       "      <td>201000.000000</td>\n",
       "      <td>360.0</td>\n",
       "      <td>1.0</td>\n",
       "      <td>2</td>\n",
       "      <td>7535.0</td>\n",
       "      <td>26.675514</td>\n",
       "      <td>0</td>\n",
       "    </tr>\n",
       "    <tr>\n",
       "      <th>4</th>\n",
       "      <td>1</td>\n",
       "      <td>1</td>\n",
       "      <td>0</td>\n",
       "      <td>1</td>\n",
       "      <td>0</td>\n",
       "      <td>2400</td>\n",
       "      <td>0.0</td>\n",
       "      <td>75000.000000</td>\n",
       "      <td>360.0</td>\n",
       "      <td>1.0</td>\n",
       "      <td>2</td>\n",
       "      <td>2400.0</td>\n",
       "      <td>31.250000</td>\n",
       "      <td>1</td>\n",
       "    </tr>\n",
       "    <tr>\n",
       "      <th>...</th>\n",
       "      <td>...</td>\n",
       "      <td>...</td>\n",
       "      <td>...</td>\n",
       "      <td>...</td>\n",
       "      <td>...</td>\n",
       "      <td>...</td>\n",
       "      <td>...</td>\n",
       "      <td>...</td>\n",
       "      <td>...</td>\n",
       "      <td>...</td>\n",
       "      <td>...</td>\n",
       "      <td>...</td>\n",
       "      <td>...</td>\n",
       "      <td>...</td>\n",
       "    </tr>\n",
       "    <tr>\n",
       "      <th>609</th>\n",
       "      <td>0</td>\n",
       "      <td>0</td>\n",
       "      <td>0</td>\n",
       "      <td>1</td>\n",
       "      <td>0</td>\n",
       "      <td>2900</td>\n",
       "      <td>0.0</td>\n",
       "      <td>71000.000000</td>\n",
       "      <td>360.0</td>\n",
       "      <td>1.0</td>\n",
       "      <td>0</td>\n",
       "      <td>2900.0</td>\n",
       "      <td>24.482759</td>\n",
       "      <td>1</td>\n",
       "    </tr>\n",
       "    <tr>\n",
       "      <th>610</th>\n",
       "      <td>1</td>\n",
       "      <td>1</td>\n",
       "      <td>3</td>\n",
       "      <td>1</td>\n",
       "      <td>0</td>\n",
       "      <td>4106</td>\n",
       "      <td>0.0</td>\n",
       "      <td>40000.000000</td>\n",
       "      <td>180.0</td>\n",
       "      <td>1.0</td>\n",
       "      <td>0</td>\n",
       "      <td>4106.0</td>\n",
       "      <td>9.741841</td>\n",
       "      <td>1</td>\n",
       "    </tr>\n",
       "    <tr>\n",
       "      <th>611</th>\n",
       "      <td>1</td>\n",
       "      <td>1</td>\n",
       "      <td>1</td>\n",
       "      <td>1</td>\n",
       "      <td>0</td>\n",
       "      <td>8072</td>\n",
       "      <td>240.0</td>\n",
       "      <td>253000.000000</td>\n",
       "      <td>360.0</td>\n",
       "      <td>1.0</td>\n",
       "      <td>2</td>\n",
       "      <td>8312.0</td>\n",
       "      <td>30.437921</td>\n",
       "      <td>1</td>\n",
       "    </tr>\n",
       "    <tr>\n",
       "      <th>612</th>\n",
       "      <td>1</td>\n",
       "      <td>1</td>\n",
       "      <td>2</td>\n",
       "      <td>1</td>\n",
       "      <td>0</td>\n",
       "      <td>7583</td>\n",
       "      <td>0.0</td>\n",
       "      <td>187000.000000</td>\n",
       "      <td>360.0</td>\n",
       "      <td>1.0</td>\n",
       "      <td>2</td>\n",
       "      <td>7583.0</td>\n",
       "      <td>24.660425</td>\n",
       "      <td>1</td>\n",
       "    </tr>\n",
       "    <tr>\n",
       "      <th>613</th>\n",
       "      <td>0</td>\n",
       "      <td>0</td>\n",
       "      <td>0</td>\n",
       "      <td>1</td>\n",
       "      <td>1</td>\n",
       "      <td>4583</td>\n",
       "      <td>0.0</td>\n",
       "      <td>133000.000000</td>\n",
       "      <td>360.0</td>\n",
       "      <td>0.0</td>\n",
       "      <td>1</td>\n",
       "      <td>4583.0</td>\n",
       "      <td>29.020292</td>\n",
       "      <td>0</td>\n",
       "    </tr>\n",
       "  </tbody>\n",
       "</table>\n",
       "<p>614 rows × 14 columns</p>\n",
       "</div>"
      ],
      "text/plain": [
       "     Gender  Married  Dependents  Education  Self_Employed  ApplicantIncome  \\\n",
       "0         1        0           0          1              0             6782   \n",
       "1         1        0           1          0              0             3596   \n",
       "2         1        1           1          1              0             3717   \n",
       "3         1        1           1          1              0             4166   \n",
       "4         1        1           0          1              0             2400   \n",
       "..      ...      ...         ...        ...            ...              ...   \n",
       "609       0        0           0          1              0             2900   \n",
       "610       1        1           3          1              0             4106   \n",
       "611       1        1           1          1              0             8072   \n",
       "612       1        1           2          1              0             7583   \n",
       "613       0        0           0          1              1             4583   \n",
       "\n",
       "     CoapplicantIncome     LoanAmount  Loan_Amount_Term  Credit_History  \\\n",
       "0                  0.0  130371.428571             360.0             1.0   \n",
       "1                  0.0  100000.000000             240.0             0.0   \n",
       "2               2925.0  151000.000000             360.0             1.0   \n",
       "3               3369.0  201000.000000             360.0             1.0   \n",
       "4                  0.0   75000.000000             360.0             1.0   \n",
       "..                 ...            ...               ...             ...   \n",
       "609                0.0   71000.000000             360.0             1.0   \n",
       "610                0.0   40000.000000             180.0             1.0   \n",
       "611              240.0  253000.000000             360.0             1.0   \n",
       "612                0.0  187000.000000             360.0             1.0   \n",
       "613                0.0  133000.000000             360.0             0.0   \n",
       "\n",
       "     Property_Area  Total_Income      Ratio  Loan_Status  \n",
       "0                2        6782.0  19.223154            0  \n",
       "1                2        3596.0  27.808676            1  \n",
       "2                1        6642.0  22.734116            0  \n",
       "3                2        7535.0  26.675514            0  \n",
       "4                2        2400.0  31.250000            1  \n",
       "..             ...           ...        ...          ...  \n",
       "609              0        2900.0  24.482759            1  \n",
       "610              0        4106.0   9.741841            1  \n",
       "611              2        8312.0  30.437921            1  \n",
       "612              2        7583.0  24.660425            1  \n",
       "613              1        4583.0  29.020292            0  \n",
       "\n",
       "[614 rows x 14 columns]"
      ]
     },
     "execution_count": 6,
     "metadata": {},
     "output_type": "execute_result"
    }
   ],
   "source": [
    "df = process_data_for_tree(df)\n",
    "df"
   ]
  },
  {
   "cell_type": "code",
   "execution_count": 7,
   "metadata": {
    "scrolled": true
   },
   "outputs": [
    {
     "name": "stdout",
     "output_type": "stream",
     "text": [
      "(429, 13) (185, 13) (429,) (185,)\n",
      "Train Results :\n",
      "\n",
      "Confusion Matrix \n",
      " [[138   0]\n",
      " [  0 291]]\n",
      "Train Accuracy :  1.0\n",
      "Area under the curve :  1.0\n",
      "f1 score :  1.0\n",
      "\n",
      "Validation Results :\n",
      "Confusion Matrix \n",
      " [[ 23  31]\n",
      " [ 25 106]]\n",
      "validation Accuracy :  0.6972972972972973\n",
      "Area under the curve :  0.6175431156347186\n",
      "f1 score :  0.791044776119403\n"
     ]
    }
   ],
   "source": [
    "X,y = df.iloc[:,0:13],df.iloc[:,-1]\n",
    "X_train,X_test,y_train,y_test = train_test_split(X,y,test_size = 0.3,random_state = 41)\n",
    "print(X_train.shape,X_test.shape,y_train.shape,y_test.shape)\n",
    "\n",
    "clf = DecisionTreeClassifier(random_state = 2020)\n",
    "clf.fit(X_train,y_train)\n",
    "\n",
    "train_pred = clf.predict(X_train)\n",
    "print('Train Results :\\n')\n",
    "print('Confusion Matrix \\n',confusion_matrix(y_train,train_pred))\n",
    "print('Train Accuracy : ',clf.score(X_train,y_train))\n",
    "print('Area under the curve : ',roc_auc_score(y_train,train_pred))\n",
    "print('f1 score : ',f1_score(y_train,train_pred))\n",
    "\n",
    "\n",
    "val_pred = clf.predict(X_test)\n",
    "print('\\nValidation Results :')\n",
    "print('Confusion Matrix \\n',confusion_matrix(y_test,val_pred))\n",
    "print('validation Accuracy : ',clf.score(X_test,y_test))\n",
    "print('Area under the curve : ',roc_auc_score(y_test,val_pred))\n",
    "print('f1 score : ',f1_score(y_test,val_pred))"
   ]
  },
  {
   "cell_type": "markdown",
   "metadata": {},
   "source": [
    "Model fits with training set well but not with the test data. This is a symptom of over fitting. Decision Trees are prone to overfit inherently, we will have to prune the tree using the gridsearchcv to get the optimum results."
   ]
  },
  {
   "cell_type": "code",
   "execution_count": 8,
   "metadata": {
    "scrolled": false
   },
   "outputs": [
    {
     "data": {
      "image/png": "[encoded data removed]",
      "text/plain": [
       "<Figure size 432x288 with 1 Axes>"
      ]
     },
     "metadata": {
      "needs_background": "light"
     },
     "output_type": "display_data"
    }
   ],
   "source": [
    "def plot_feat_imp(df,clf):\n",
    "    '''\n",
    "    Plots feature importance of a classifier for a given dataframe\n",
    "    \n",
    "    Input Parameters :\n",
    "        df : Input dataframe\n",
    "        clf : Classifier\n",
    "    \n",
    "    Returns :\n",
    "        A plot object\n",
    "        \n",
    "    '''\n",
    "    feat_imp = pd.DataFrame(list(zip(df.columns,clf.feature_importances_)),\n",
    "                     columns = ['Feature','Importance']).sort_values(by = 'Importance',ascending = False)\n",
    "    g = sns.barplot(x = 'Feature', y = 'Importance',data = feat_imp)\n",
    "    g.set_title('Feature Importance')\n",
    "    z = g.set_xticklabels(g.get_xticklabels(),rotation=90)\n",
    "    return z\n",
    "\n",
    "k = plot_feat_imp(df,clf)"
   ]
  },
  {
   "cell_type": "markdown",
   "metadata": {},
   "source": [
    "Above data gives the feature importance for a fully grown tree but in real time, fully grown trees cannot fetch optimum results."
   ]
  },
  {
   "cell_type": "markdown",
   "metadata": {},
   "source": [
    "### Metrics for the problem Statement"
   ]
  },
  {
   "cell_type": "markdown",
   "metadata": {},
   "source": [
    "As a startup the loan application approval system should balance between risk and customers. So we need a metric that has the capability to assess False Positive and False Negatives equally. f1_score is a metric defined as the harmonic mean of precision and recall. The ability to balance both Faslse Positive and False Negatives makes f1_score an apt metric for the problem statement. As the start up flourishes this strategy will be void, then the go to  metrics for the loan approval would be f1 beta score, beta value should be aligned with the new strategy."
   ]
  },
  {
   "cell_type": "markdown",
   "metadata": {},
   "source": [
    "<img src=\"./Screenshots/Strategy.jpg\">"
   ]
  },
  {
   "cell_type": "markdown",
   "metadata": {},
   "source": [
    "For pruning the decision tree, let us use gridsearchcv and tune the hyperparameters"
   ]
  },
  {
   "cell_type": "code",
   "execution_count": 9,
   "metadata": {
    "scrolled": true
   },
   "outputs": [
    {
     "data": {
      "text/plain": [
       "(DecisionTreeClassifier(max_depth=3, min_impurity_decrease=0.1,\n",
       "                        random_state=2020),\n",
       " 0.8321148936774124)"
      ]
     },
     "execution_count": 9,
     "metadata": {},
     "output_type": "execute_result"
    }
   ],
   "source": [
    "params = {\n",
    "    \n",
    "    'max_depth' : [3,4,5],\n",
    "    'min_impurity_decrease' : [0.1,0.2]\n",
    "}\n",
    "grid = GridSearchCV(estimator=clf, param_grid=params,cv = 5, scoring = 'f1',n_jobs = -1)\n",
    "grid.fit(X_train,y_train)\n",
    "grid.best_estimator_,grid.best_score_"
   ]
  },
  {
   "cell_type": "code",
   "execution_count": 10,
   "metadata": {
    "scrolled": true
   },
   "outputs": [
    {
     "name": "stdout",
     "output_type": "stream",
     "text": [
      "f1 score of grid search on validation data:  0.8850174216027874\n",
      "accuracy score of grid search on validation data:  0.8216216216216217\n",
      "ROC score of grid search on validation data:  0.7162143059089623\n",
      "Confusion Matrix of grid search on validation data: \n",
      " [[ 25  29]\n",
      " [  4 127]]\n"
     ]
    }
   ],
   "source": [
    "grid_pred = grid.best_estimator_.predict(X_test)\n",
    "print('f1 score of grid search on validation data: ',f1_score(y_test,grid_pred))\n",
    "print('accuracy score of grid search on validation data: ',accuracy_score(y_test,grid_pred))\n",
    "print('ROC score of grid search on validation data: ',roc_auc_score(y_test,grid_pred))\n",
    "print('Confusion Matrix of grid search on validation data: \\n',confusion_matrix(y_test,grid_pred))"
   ]
  },
  {
   "cell_type": "code",
   "execution_count": 11,
   "metadata": {},
   "outputs": [
    {
     "data": {
      "image/png": "[encoded data removed]",
      "text/plain": [
       "<Figure size 432x288 with 1 Axes>"
      ]
     },
     "metadata": {
      "needs_background": "light"
     },
     "output_type": "display_data"
    }
   ],
   "source": [
    "k = plot_feat_imp(df,clf = grid.best_estimator_)\n",
    "#pd.DataFrame(list(zip(df.columns,grid.best_estimator_.feature_importances_)),columns = ['Feature','Importance']).sort_values(by = 'Importance',ascending = False).head()"
   ]
  },
  {
   "cell_type": "code",
   "execution_count": 12,
   "metadata": {},
   "outputs": [],
   "source": [
    "export_graphviz(grid.best_estimator_, out_file = './Tree_files/tree_two_param.dot', feature_names = df.iloc[:,0:13].columns,filled = True)"
   ]
  },
  {
   "cell_type": "code",
   "execution_count": 13,
   "metadata": {},
   "outputs": [],
   "source": [
    "!dot -Tpng ./Tree_files/tree_two_param.dot -o ./Tree_files/tree_two_param.png"
   ]
  },
  {
   "cell_type": "markdown",
   "metadata": {},
   "source": [
    "<img src=\"./Tree_files/tree_two_param.png\">\n",
    "Fig-1 showing the tree structure."
   ]
  },
  {
   "cell_type": "markdown",
   "metadata": {},
   "source": [
    "As per the grid search the pruned decision tree is displayed above."
   ]
  },
  {
   "cell_type": "code",
   "execution_count": 14,
   "metadata": {},
   "outputs": [
    {
     "name": "stdout",
     "output_type": "stream",
     "text": [
      "DecisionTreeClassifier(max_depth=2, random_state=2020) 0.8489262848684611\n",
      "f1 score of grid search on validation data:  0.896797153024911\n",
      "accuracy score of grid search on validation data:  0.8432432432432433\n",
      "ROC score of grid search on validation data:  0.758693808312129\n",
      "Confusion Matrix of grid search on validation data: \n",
      " [[ 30  24]\n",
      " [  5 126]]\n"
     ]
    }
   ],
   "source": [
    "params = {\n",
    "    \n",
    "    'max_depth' : [2,3,4],\n",
    "    \n",
    "}\n",
    "grid = GridSearchCV(estimator=clf, param_grid=params,cv = 5, scoring = 'f1',n_jobs = -1)\n",
    "grid.fit(X_train,y_train)\n",
    "print(grid.best_estimator_,grid.best_score_)\n",
    "\n",
    "grid_pred = grid.best_estimator_.predict(X_test)\n",
    "print('f1 score of grid search on validation data: ',f1_score(y_test,grid_pred))\n",
    "print('accuracy score of grid search on validation data: ',accuracy_score(y_test,grid_pred))\n",
    "print('ROC score of grid search on validation data: ',roc_auc_score(y_test,grid_pred))\n",
    "print('Confusion Matrix of grid search on validation data: \\n',confusion_matrix(y_test,grid_pred))"
   ]
  },
  {
   "cell_type": "code",
   "execution_count": 15,
   "metadata": {
    "scrolled": true
   },
   "outputs": [],
   "source": [
    "export_graphviz(grid.best_estimator_, out_file = './Tree_files/tree_one_param.dot', feature_names = df.iloc[:,0:13].columns,filled = True)"
   ]
  },
  {
   "cell_type": "code",
   "execution_count": 16,
   "metadata": {},
   "outputs": [],
   "source": [
    "!dot -Tpng ./Tree_files/tree_one_param.dot -o ./Tree_files/tree_one_param.png"
   ]
  },
  {
   "cell_type": "markdown",
   "metadata": {},
   "source": [
    "<img src=\"./Tree_files/tree_one_param.png\">\n",
    "Fig-2 showing the tree structure."
   ]
  },
  {
   "cell_type": "code",
   "execution_count": 17,
   "metadata": {
    "scrolled": true
   },
   "outputs": [
    {
     "data": {
      "image/png": "[encoded data removed]",
      "text/plain": [
       "<Figure size 432x288 with 1 Axes>"
      ]
     },
     "metadata": {
      "needs_background": "light"
     },
     "output_type": "display_data"
    }
   ],
   "source": [
    "k = plot_feat_imp(df,clf = grid.best_estimator_)\n",
    "#pd.DataFrame(list(zip(df.columns,grid.best_estimator_.feature_importances_)),columns = ['Feature','Importance']).sort_values(by = 'Importance',ascending = False).head()"
   ]
  },
  {
   "cell_type": "markdown",
   "metadata": {},
   "source": [
    "<img src=\"./Screenshots/Confusion_Matrix_DT.jpg\">"
   ]
  },
  {
   "cell_type": "markdown",
   "metadata": {},
   "source": [
    "### Comparison of Models from Gridsearchcv\n",
    "\n",
    "As the number of records are low, we have tried and tested two models through GridSearchCV with minimal combinations. The combinations tried are as follows:\n",
    "\n",
    "1. params = { \n",
    "    \n",
    "    'max_depth' : [3,4,5],          # controls the depth of the tree\n",
    "    \n",
    "    'min_impurity_decrease' : [0.1,0.2]             # Splitting of the nodes progress if there is a decrease in impurity atmost value set by the parameter. \n",
    "    }\n",
    "\n",
    "\n",
    "2. params = {\n",
    "    'max_depth':[2,3,4]                # controls the depth of the tree\n",
    "    }\n",
    "\n",
    "The first parameter space led to the decision tree of depth 1 and the feature contributing to the split is Credit_History. Please refer to the fig-1.\n",
    "\n",
    "The second parameter space led to a decision tree of depth 2 and the features contributing to the split are Credit_History, Ratio and Education. Please refer to to fig-2.\n",
    "\n",
    "Comparing both the models, the metrics do not vary by a large margin but f1 score for the second combination is higher and also reduces the False Positives and False Negatives without any dip in the True Positives and True Negatives compared to the first combination. "
   ]
  },
  {
   "cell_type": "code",
   "execution_count": 18,
   "metadata": {},
   "outputs": [],
   "source": [
    "pickle.dump(grid.best_estimator_, open('./Models/Decision_Tree.sav', 'wb'))"
   ]
  },
  {
   "cell_type": "markdown",
   "metadata": {},
   "source": [
    "### Conclusion"
   ]
  },
  {
   "cell_type": "markdown",
   "metadata": {},
   "source": [
    "From the above model, we can conclude that the following predictors have greater abaility to predict the outcome of the loan application. \n",
    "\n",
    "1. Credit_History \n",
    "2. Ratio \n",
    "3. Education "
   ]
  }
 ],
 "metadata": {
  "kernelspec": {
   "display_name": "Python 3",
   "language": "python",
   "name": "python3"
  },
  "language_info": {
   "codemirror_mode": {
    "name": "ipython",
    "version": 3
   },
   "file_extension": ".py",
   "mimetype": "text/x-python",
   "name": "python",
   "nbconvert_exporter": "python",
   "pygments_lexer": "ipython3",
   "version": "3.8.3"
  }
 },
 "nbformat": 4,
 "nbformat_minor": 4
}
